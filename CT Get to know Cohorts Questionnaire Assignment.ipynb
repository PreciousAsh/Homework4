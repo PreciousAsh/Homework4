{
 "cells": [
  {
   "cell_type": "code",
   "execution_count": 2,
   "id": "d2450cba",
   "metadata": {},
   "outputs": [],
   "source": [
    "import csv"
   ]
  },
  {
   "cell_type": "code",
   "execution_count": 4,
   "id": "1577bbe5",
   "metadata": {},
   "outputs": [
    {
     "name": "stdout",
     "output_type": "stream",
     "text": [
      "['Timestamp', \"What's your name \", 'How do you commute to work?', \"What's your favorite colour?\", \"What's your strongest strength?\", \"What's your plans after the 9 months course?\", 'What is something you love to do in your spare time?']\n",
      "['2022/11/16 2:53:08 pm GMT', 'Rocio', '', 'blue', \"I'm quite empathetic\", 'Get a job or travel', 'Reading']\n",
      "['2022/11/16 2:55:53 pm GMT', 'Shi Shi', '', 'Purple', 'Learning new things', 'No Plan', 'Workout']\n",
      "['2022/11/16 2:56:27 pm GMT', 'Jana', '', 'Green', 'Patience', 'holiday', 'Listening to music']\n",
      "['2022/11/16 3:10:00 pm GMT', 'Tilly ', '', 'Orange', 'perseverance ', 'No idea ', 'Sewing']\n",
      "['2022/11/16 5:46:52 pm GMT', 'Wen', 'Thameslink', 'Blue', 'Communication', 'Get hired in WPP', 'reading, watching movies and meeting friends']\n",
      "['2022/11/16 8:42:13 pm GMT', 'Adele', 'By train', 'Blue', 'Creative ', 'Hopefully get a great job.', 'Watch sci-fi movies.']\n",
      "['2022/11/17 2:08:09 pm GMT', 'Beth', 'Underground', 'Purple', 'Resilience', 'Not sure yet', 'Go to raves']\n",
      "['2022/11/17 3:00:53 pm GMT', 'Kat', 'walk', 'purple', 'creativity ', 'teach another one :)', 'dance']\n",
      "['2022/11/18 12:06:04 pm GMT', 'Dara', 'Overground and Underground', 'Purple', 'Listening', 'Continue working', 'Watch shows on Netflix']\n",
      "['2022/11/18 1:15:46 pm GMT', 'Jade', 'Bus', 'Neon Green', 'Doing winged eyeliner in one swoop', 'More creative technology!', 'Gaming']\n",
      "['2022/11/18 1:58:59 pm GMT', 'Ning Wei', 'Tube', 'Purple', 'Not sure', 'Not sure', 'Watch movie/ dramas']\n",
      "['2022/11/18 4:02:11 pm GMT', 'Zishan liu', 'Bus', 'pink', 'honesty', 'work', '']\n"
     ]
    }
   ],
   "source": [
    "with open('Creative Technologists .csv', newline='') as csvfile:\n",
    "    csv_reader = csv.reader(csvfile)\n",
    "    for row in csv_reader:\n",
    "        print(row)"
   ]
  },
  {
   "cell_type": "code",
   "execution_count": 6,
   "id": "625d5a99",
   "metadata": {},
   "outputs": [
    {
     "name": "stdout",
     "output_type": "stream",
     "text": [
      "['2022/11/16 2:53:08 pm GMT', 'Rocio', '', 'blue', \"I'm quite empathetic\", 'Get a job or travel', 'Reading']\n",
      "['2022/11/16 2:55:53 pm GMT', 'Shi Shi', '', 'Purple', 'Learning new things', 'No Plan', 'Workout']\n",
      "['2022/11/16 2:56:27 pm GMT', 'Jana', '', 'Green', 'Patience', 'holiday', 'Listening to music']\n",
      "['2022/11/16 3:10:00 pm GMT', 'Tilly ', '', 'Orange', 'perseverance ', 'No idea ', 'Sewing']\n",
      "['2022/11/16 5:46:52 pm GMT', 'Wen', 'Thameslink', 'Blue', 'Communication', 'Get hired in WPP', 'reading, watching movies and meeting friends']\n",
      "['2022/11/16 8:42:13 pm GMT', 'Adele', 'By train', 'Blue', 'Creative ', 'Hopefully get a great job.', 'Watch sci-fi movies.']\n",
      "['2022/11/17 2:08:09 pm GMT', 'Beth', 'Underground', 'Purple', 'Resilience', 'Not sure yet', 'Go to raves']\n",
      "['2022/11/17 3:00:53 pm GMT', 'Kat', 'walk', 'purple', 'creativity ', 'teach another one :)', 'dance']\n",
      "['2022/11/18 12:06:04 pm GMT', 'Dara', 'Overground and Underground', 'Purple', 'Listening', 'Continue working', 'Watch shows on Netflix']\n",
      "['2022/11/18 1:15:46 pm GMT', 'Jade', 'Bus', 'Neon Green', 'Doing winged eyeliner in one swoop', 'More creative technology!', 'Gaming']\n",
      "['2022/11/18 1:58:59 pm GMT', 'Ning Wei', 'Tube', 'Purple', 'Not sure', 'Not sure', 'Watch movie/ dramas']\n",
      "['2022/11/18 4:02:11 pm GMT', 'Zishan liu', 'Bus', 'pink', 'honesty', 'work', '']\n"
     ]
    }
   ],
   "source": [
    "with open('Creative Technologists .csv', newline='') as csvfile:\n",
    "    csv_reader = csv.reader(csvfile)\n",
    "    headers = next(csv_reader)\n",
    "    for row in csv_reader:\n",
    "        print(row)"
   ]
  },
  {
   "cell_type": "code",
   "execution_count": 8,
   "id": "85805d48",
   "metadata": {},
   "outputs": [
    {
     "data": {
      "text/plain": [
       "['Timestamp',\n",
       " \"What's your name \",\n",
       " 'How do you commute to work?',\n",
       " \"What's your favorite colour?\",\n",
       " \"What's your strongest strength?\",\n",
       " \"What's your plans after the 9 months course?\",\n",
       " 'What is something you love to do in your spare time?']"
      ]
     },
     "execution_count": 8,
     "metadata": {},
     "output_type": "execute_result"
    }
   ],
   "source": [
    "headers"
   ]
  },
  {
   "cell_type": "code",
   "execution_count": 10,
   "id": "a072890b",
   "metadata": {},
   "outputs": [
    {
     "data": {
      "text/plain": [
       "['2022/11/18 4:02:11 pm GMT',\n",
       " 'Zishan liu',\n",
       " 'Bus',\n",
       " 'pink',\n",
       " 'honesty',\n",
       " 'work',\n",
       " '']"
      ]
     },
     "execution_count": 10,
     "metadata": {},
     "output_type": "execute_result"
    }
   ],
   "source": [
    "row"
   ]
  },
  {
   "cell_type": "code",
   "execution_count": 11,
   "id": "c7de9b1e",
   "metadata": {},
   "outputs": [],
   "source": [
    "with open('Creative Technologists .csv', newline='') as csvfile:\n",
    "    csv_reader = csv.reader(csvfile)\n",
    "    headers = next(csv_reader)\n",
    "    data = []\n",
    "    for row in csv_reader:\n",
    "        data.append(row)"
   ]
  },
  {
   "cell_type": "code",
   "execution_count": 15,
   "id": "cdb73729",
   "metadata": {},
   "outputs": [
    {
     "data": {
      "text/plain": [
       "['2022/11/17 2:08:09 pm GMT',\n",
       " 'Beth',\n",
       " 'Underground',\n",
       " 'Purple',\n",
       " 'Resilience',\n",
       " 'Not sure yet',\n",
       " 'Go to raves']"
      ]
     },
     "execution_count": 15,
     "metadata": {},
     "output_type": "execute_result"
    }
   ],
   "source": [
    "data[6]"
   ]
  },
  {
   "cell_type": "code",
   "execution_count": 16,
   "id": "e81f9c6c",
   "metadata": {},
   "outputs": [
    {
     "data": {
      "text/plain": [
       "12"
      ]
     },
     "execution_count": 16,
     "metadata": {},
     "output_type": "execute_result"
    }
   ],
   "source": [
    "len(data)"
   ]
  },
  {
   "cell_type": "code",
   "execution_count": 19,
   "id": "eb23a6bc",
   "metadata": {},
   "outputs": [
    {
     "data": {
      "text/plain": [
       "'blue'"
      ]
     },
     "execution_count": 19,
     "metadata": {},
     "output_type": "execute_result"
    }
   ],
   "source": [
    "colour_choices = {}\n",
    "\n",
    "data[0][3]"
   ]
  },
  {
   "cell_type": "code",
   "execution_count": 26,
   "id": "933d4dc1",
   "metadata": {},
   "outputs": [
    {
     "name": "stdout",
     "output_type": "stream",
     "text": [
      "{'blue': 1, 'Purple': 4, 'Green': 1, 'Orange': 1, 'Blue': 2, 'purple': 1, 'Neon Green': 1, 'pink': 1}\n"
     ]
    }
   ],
   "source": [
    "colour_choices = {}\n",
    "\n",
    "for row in data:\n",
    "    #print (row[3])\n",
    "    if row[3] in colour_choices:\n",
    "        colour_choices[row[3]] += 1\n",
    "    else:\n",
    "        colour_choices[row[3]] = 1\n",
    "    \n",
    "print(colour_choices)"
   ]
  },
  {
   "cell_type": "code",
   "execution_count": null,
   "id": "47c2b8f7",
   "metadata": {},
   "outputs": [],
   "source": []
  }
 ],
 "metadata": {
  "kernelspec": {
   "display_name": "Python 3 (ipykernel)",
   "language": "python",
   "name": "python3"
  },
  "language_info": {
   "codemirror_mode": {
    "name": "ipython",
    "version": 3
   },
   "file_extension": ".py",
   "mimetype": "text/x-python",
   "name": "python",
   "nbconvert_exporter": "python",
   "pygments_lexer": "ipython3",
   "version": "3.11.0"
  }
 },
 "nbformat": 4,
 "nbformat_minor": 5
}
